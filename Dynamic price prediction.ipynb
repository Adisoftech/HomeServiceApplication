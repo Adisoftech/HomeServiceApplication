{
 "cells": [
  {
   "cell_type": "code",
   "execution_count": 56,
   "id": "5bcd1cdf",
   "metadata": {},
   "outputs": [],
   "source": [
    "import numpy as np\n",
    "import matplotlib.pyplot as plt\n",
    "import pandas as pd"
   ]
  },
  {
   "cell_type": "code",
   "execution_count": 57,
   "id": "8c7d513e",
   "metadata": {},
   "outputs": [],
   "source": [
    "dataset = pd.read_csv('synthetic_dataset_enhanced.csv')\n",
    "X = dataset.iloc[:, :-1].values\n",
    "y = dataset.iloc[:, -1].values"
   ]
  },
  {
   "cell_type": "code",
   "execution_count": 58,
   "id": "f0f07187",
   "metadata": {},
   "outputs": [
    {
     "data": {
      "text/html": [
       "<div>\n",
       "<style scoped>\n",
       "    .dataframe tbody tr th:only-of-type {\n",
       "        vertical-align: middle;\n",
       "    }\n",
       "\n",
       "    .dataframe tbody tr th {\n",
       "        vertical-align: top;\n",
       "    }\n",
       "\n",
       "    .dataframe thead th {\n",
       "        text-align: right;\n",
       "    }\n",
       "</style>\n",
       "<table border=\"1\" class=\"dataframe\">\n",
       "  <thead>\n",
       "    <tr style=\"text-align: right;\">\n",
       "      <th></th>\n",
       "      <th>Weather_condition</th>\n",
       "      <th>Service</th>\n",
       "      <th>Price_change_factor</th>\n",
       "    </tr>\n",
       "  </thead>\n",
       "  <tbody>\n",
       "    <tr>\n",
       "      <th>0</th>\n",
       "      <td>Extreme</td>\n",
       "      <td>AC Repair Service</td>\n",
       "      <td>0.137183</td>\n",
       "    </tr>\n",
       "    <tr>\n",
       "      <th>1</th>\n",
       "      <td>Fine</td>\n",
       "      <td>Men/kids haircut</td>\n",
       "      <td>-50.619914</td>\n",
       "    </tr>\n",
       "    <tr>\n",
       "      <th>2</th>\n",
       "      <td>Fine</td>\n",
       "      <td>Hair colour</td>\n",
       "      <td>-63.880014</td>\n",
       "    </tr>\n",
       "    <tr>\n",
       "      <th>3</th>\n",
       "      <td>Extreme</td>\n",
       "      <td>Water Purifier Repair</td>\n",
       "      <td>18.432801</td>\n",
       "    </tr>\n",
       "    <tr>\n",
       "      <th>4</th>\n",
       "      <td>Fine</td>\n",
       "      <td>Kitchen cleaning</td>\n",
       "      <td>16.655649</td>\n",
       "    </tr>\n",
       "    <tr>\n",
       "      <th>...</th>\n",
       "      <td>...</td>\n",
       "      <td>...</td>\n",
       "      <td>...</td>\n",
       "    </tr>\n",
       "    <tr>\n",
       "      <th>995</th>\n",
       "      <td>Extreme</td>\n",
       "      <td>Refrigerator Repair</td>\n",
       "      <td>15.985392</td>\n",
       "    </tr>\n",
       "    <tr>\n",
       "      <th>996</th>\n",
       "      <td>Extreme</td>\n",
       "      <td>Water Purifier Repair</td>\n",
       "      <td>-6.693268</td>\n",
       "    </tr>\n",
       "    <tr>\n",
       "      <th>997</th>\n",
       "      <td>Fine</td>\n",
       "      <td>Hair colour</td>\n",
       "      <td>16.571008</td>\n",
       "    </tr>\n",
       "    <tr>\n",
       "      <th>998</th>\n",
       "      <td>Moderate</td>\n",
       "      <td>Electrician</td>\n",
       "      <td>56.414909</td>\n",
       "    </tr>\n",
       "    <tr>\n",
       "      <th>999</th>\n",
       "      <td>Fine</td>\n",
       "      <td>Home painting</td>\n",
       "      <td>16.487710</td>\n",
       "    </tr>\n",
       "  </tbody>\n",
       "</table>\n",
       "<p>1000 rows × 3 columns</p>\n",
       "</div>"
      ],
      "text/plain": [
       "    Weather_condition                Service  Price_change_factor\n",
       "0             Extreme      AC Repair Service             0.137183\n",
       "1                Fine       Men/kids haircut           -50.619914\n",
       "2                Fine            Hair colour           -63.880014\n",
       "3             Extreme  Water Purifier Repair            18.432801\n",
       "4                Fine       Kitchen cleaning            16.655649\n",
       "..                ...                    ...                  ...\n",
       "995           Extreme    Refrigerator Repair            15.985392\n",
       "996           Extreme  Water Purifier Repair            -6.693268\n",
       "997              Fine            Hair colour            16.571008\n",
       "998          Moderate            Electrician            56.414909\n",
       "999              Fine          Home painting            16.487710\n",
       "\n",
       "[1000 rows x 3 columns]"
      ]
     },
     "execution_count": 58,
     "metadata": {},
     "output_type": "execute_result"
    }
   ],
   "source": [
    "dataset"
   ]
  },
  {
   "cell_type": "code",
   "execution_count": 59,
   "id": "5be04c1b",
   "metadata": {},
   "outputs": [
    {
     "data": {
      "text/plain": [
       "array([['Extreme', 'AC Repair Service'],\n",
       "       ['Fine', 'Men/kids haircut'],\n",
       "       ['Fine', 'Hair colour'],\n",
       "       ...,\n",
       "       ['Fine', 'Hair colour'],\n",
       "       ['Moderate', 'Electrician'],\n",
       "       ['Fine', 'Home painting']], dtype=object)"
      ]
     },
     "execution_count": 59,
     "metadata": {},
     "output_type": "execute_result"
    }
   ],
   "source": [
    "X"
   ]
  },
  {
   "cell_type": "code",
   "execution_count": 60,
   "id": "c5f81be2",
   "metadata": {},
   "outputs": [],
   "source": [
    "categorical_columns = [0,1]"
   ]
  },
  {
   "cell_type": "code",
   "execution_count": 61,
   "id": "2da26312",
   "metadata": {},
   "outputs": [],
   "source": [
    "from sklearn.preprocessing import OneHotEncoder\n",
    "encoder = OneHotEncoder(categories='auto', sparse=False)"
   ]
  },
  {
   "cell_type": "code",
   "execution_count": 62,
   "id": "ad7c9bc6",
   "metadata": {},
   "outputs": [
    {
     "name": "stderr",
     "output_type": "stream",
     "text": [
      "C:\\Users\\kvbhk\\anaconda3\\lib\\site-packages\\sklearn\\preprocessing\\_encoders.py:828: FutureWarning: `sparse` was renamed to `sparse_output` in version 1.2 and will be removed in 1.4. `sparse_output` is ignored unless you leave `sparse` to its default value.\n",
      "  warnings.warn(\n"
     ]
    },
    {
     "data": {
      "text/plain": [
       "array([[1., 0., 0., ..., 0., 0., 0.],\n",
       "       [0., 1., 0., ..., 0., 0., 0.],\n",
       "       [0., 1., 0., ..., 0., 0., 0.],\n",
       "       ...,\n",
       "       [0., 1., 0., ..., 0., 0., 0.],\n",
       "       [0., 0., 1., ..., 0., 0., 0.],\n",
       "       [0., 1., 0., ..., 0., 0., 0.]])"
      ]
     },
     "execution_count": 62,
     "metadata": {},
     "output_type": "execute_result"
    }
   ],
   "source": [
    "encoded_categorical_data = encoder.fit_transform(X[:, categorical_columns])\n",
    "\n",
    "# Handle numerical columns\n",
    "numerical_columns = [col for col in range(X.shape[1]) if col not in categorical_columns]\n",
    "numerical_data = X[:, numerical_columns].astype(float)\n",
    "\n",
    "# Concatenate the encoded data with the numerical column(s)\n",
    "encoded_data = np.concatenate((encoded_categorical_data, numerical_data), axis=1)\n",
    "encoded_data"
   ]
  },
  {
   "cell_type": "code",
   "execution_count": 63,
   "id": "b05caf64",
   "metadata": {},
   "outputs": [],
   "source": [
    "from sklearn.model_selection import train_test_split\n",
    "X_train, X_test, y_train, y_test = train_test_split(encoded_data, y, test_size = 0.2, random_state = 0)"
   ]
  },
  {
   "cell_type": "code",
   "execution_count": 24,
   "id": "007b9c50",
   "metadata": {},
   "outputs": [
    {
     "data": {
      "text/plain": [
       "array([[ 0.99515627],\n",
       "       [ 1.02949977],\n",
       "       [ 0.34004384],\n",
       "       ...,\n",
       "       [-0.49761442],\n",
       "       [-1.57187921],\n",
       "       [-0.77430184]])"
      ]
     },
     "execution_count": 24,
     "metadata": {},
     "output_type": "execute_result"
    }
   ],
   "source": [
    "from sklearn.preprocessing import StandardScaler\n",
    "scalery = StandardScaler()\n",
    "y_train = scalery.fit_transform(y_train.reshape(-1, 1))\n",
    "y_train"
   ]
  },
  {
   "cell_type": "code",
   "execution_count": 25,
   "id": "30dfcf00",
   "metadata": {},
   "outputs": [
    {
     "name": "stderr",
     "output_type": "stream",
     "text": [
      "C:\\Users\\kvbhk\\anaconda3\\lib\\site-packages\\sklearn\\utils\\validation.py:1143: DataConversionWarning: A column-vector y was passed when a 1d array was expected. Please change the shape of y to (n_samples, ), for example using ravel().\n",
      "  y = column_or_1d(y, warn=True)\n"
     ]
    },
    {
     "data": {
      "text/html": [
       "<style>#sk-container-id-2 {color: black;background-color: white;}#sk-container-id-2 pre{padding: 0;}#sk-container-id-2 div.sk-toggleable {background-color: white;}#sk-container-id-2 label.sk-toggleable__label {cursor: pointer;display: block;width: 100%;margin-bottom: 0;padding: 0.3em;box-sizing: border-box;text-align: center;}#sk-container-id-2 label.sk-toggleable__label-arrow:before {content: \"▸\";float: left;margin-right: 0.25em;color: #696969;}#sk-container-id-2 label.sk-toggleable__label-arrow:hover:before {color: black;}#sk-container-id-2 div.sk-estimator:hover label.sk-toggleable__label-arrow:before {color: black;}#sk-container-id-2 div.sk-toggleable__content {max-height: 0;max-width: 0;overflow: hidden;text-align: left;background-color: #f0f8ff;}#sk-container-id-2 div.sk-toggleable__content pre {margin: 0.2em;color: black;border-radius: 0.25em;background-color: #f0f8ff;}#sk-container-id-2 input.sk-toggleable__control:checked~div.sk-toggleable__content {max-height: 200px;max-width: 100%;overflow: auto;}#sk-container-id-2 input.sk-toggleable__control:checked~label.sk-toggleable__label-arrow:before {content: \"▾\";}#sk-container-id-2 div.sk-estimator input.sk-toggleable__control:checked~label.sk-toggleable__label {background-color: #d4ebff;}#sk-container-id-2 div.sk-label input.sk-toggleable__control:checked~label.sk-toggleable__label {background-color: #d4ebff;}#sk-container-id-2 input.sk-hidden--visually {border: 0;clip: rect(1px 1px 1px 1px);clip: rect(1px, 1px, 1px, 1px);height: 1px;margin: -1px;overflow: hidden;padding: 0;position: absolute;width: 1px;}#sk-container-id-2 div.sk-estimator {font-family: monospace;background-color: #f0f8ff;border: 1px dotted black;border-radius: 0.25em;box-sizing: border-box;margin-bottom: 0.5em;}#sk-container-id-2 div.sk-estimator:hover {background-color: #d4ebff;}#sk-container-id-2 div.sk-parallel-item::after {content: \"\";width: 100%;border-bottom: 1px solid gray;flex-grow: 1;}#sk-container-id-2 div.sk-label:hover label.sk-toggleable__label {background-color: #d4ebff;}#sk-container-id-2 div.sk-serial::before {content: \"\";position: absolute;border-left: 1px solid gray;box-sizing: border-box;top: 0;bottom: 0;left: 50%;z-index: 0;}#sk-container-id-2 div.sk-serial {display: flex;flex-direction: column;align-items: center;background-color: white;padding-right: 0.2em;padding-left: 0.2em;position: relative;}#sk-container-id-2 div.sk-item {position: relative;z-index: 1;}#sk-container-id-2 div.sk-parallel {display: flex;align-items: stretch;justify-content: center;background-color: white;position: relative;}#sk-container-id-2 div.sk-item::before, #sk-container-id-2 div.sk-parallel-item::before {content: \"\";position: absolute;border-left: 1px solid gray;box-sizing: border-box;top: 0;bottom: 0;left: 50%;z-index: -1;}#sk-container-id-2 div.sk-parallel-item {display: flex;flex-direction: column;z-index: 1;position: relative;background-color: white;}#sk-container-id-2 div.sk-parallel-item:first-child::after {align-self: flex-end;width: 50%;}#sk-container-id-2 div.sk-parallel-item:last-child::after {align-self: flex-start;width: 50%;}#sk-container-id-2 div.sk-parallel-item:only-child::after {width: 0;}#sk-container-id-2 div.sk-dashed-wrapped {border: 1px dashed gray;margin: 0 0.4em 0.5em 0.4em;box-sizing: border-box;padding-bottom: 0.4em;background-color: white;}#sk-container-id-2 div.sk-label label {font-family: monospace;font-weight: bold;display: inline-block;line-height: 1.2em;}#sk-container-id-2 div.sk-label-container {text-align: center;}#sk-container-id-2 div.sk-container {/* jupyter's `normalize.less` sets `[hidden] { display: none; }` but bootstrap.min.css set `[hidden] { display: none !important; }` so we also need the `!important` here to be able to override the default hidden behavior on the sphinx rendered scikit-learn.org. See: https://github.com/scikit-learn/scikit-learn/issues/21755 */display: inline-block !important;position: relative;}#sk-container-id-2 div.sk-text-repr-fallback {display: none;}</style><div id=\"sk-container-id-2\" class=\"sk-top-container\"><div class=\"sk-text-repr-fallback\"><pre>SVR()</pre><b>In a Jupyter environment, please rerun this cell to show the HTML representation or trust the notebook. <br />On GitHub, the HTML representation is unable to render, please try loading this page with nbviewer.org.</b></div><div class=\"sk-container\" hidden><div class=\"sk-item\"><div class=\"sk-estimator sk-toggleable\"><input class=\"sk-toggleable__control sk-hidden--visually\" id=\"sk-estimator-id-2\" type=\"checkbox\" checked><label for=\"sk-estimator-id-2\" class=\"sk-toggleable__label sk-toggleable__label-arrow\">SVR</label><div class=\"sk-toggleable__content\"><pre>SVR()</pre></div></div></div></div></div>"
      ],
      "text/plain": [
       "SVR()"
      ]
     },
     "execution_count": 25,
     "metadata": {},
     "output_type": "execute_result"
    }
   ],
   "source": [
    "from sklearn.svm import SVR\n",
    "regressor = SVR(kernel = 'rbf')\n",
    "regressor.fit(X_train, y_train)"
   ]
  },
  {
   "cell_type": "code",
   "execution_count": 26,
   "id": "5fcc29b7",
   "metadata": {},
   "outputs": [
    {
     "name": "stdout",
     "output_type": "stream",
     "text": [
      "[[388.31 193.98]\n",
      " [399.55 168.83]\n",
      " [425.13 461.31]\n",
      " ...\n",
      " [364.93 393.68]\n",
      " [373.79 432.27]\n",
      " [294.7  366.27]]\n"
     ]
    }
   ],
   "source": [
    "y_pred = scalery.inverse_transform(regressor.predict(X_test).reshape(-1, 1))\n",
    "np.set_printoptions(precision=2)\n",
    "print(np.concatenate((y_pred.reshape(len(y_pred),1), y_test.reshape(len(y_test),1)),1))"
   ]
  },
  {
   "cell_type": "code",
   "execution_count": 27,
   "id": "89464b82",
   "metadata": {},
   "outputs": [
    {
     "data": {
      "text/plain": [
       "-0.12015889520261314"
      ]
     },
     "execution_count": 27,
     "metadata": {},
     "output_type": "execute_result"
    }
   ],
   "source": [
    "from sklearn.metrics import r2_score\n",
    "r2_score(y_test, y_pred)"
   ]
  },
  {
   "cell_type": "code",
   "execution_count": 28,
   "id": "254f51ea",
   "metadata": {},
   "outputs": [],
   "source": [
    "y_train = y_train.astype(int)\n",
    "y_test = y_test.astype(int)"
   ]
  },
  {
   "cell_type": "code",
   "execution_count": 64,
   "id": "3d6f1dc8",
   "metadata": {},
   "outputs": [
    {
     "data": {
      "text/html": [
       "<style>#sk-container-id-6 {color: black;background-color: white;}#sk-container-id-6 pre{padding: 0;}#sk-container-id-6 div.sk-toggleable {background-color: white;}#sk-container-id-6 label.sk-toggleable__label {cursor: pointer;display: block;width: 100%;margin-bottom: 0;padding: 0.3em;box-sizing: border-box;text-align: center;}#sk-container-id-6 label.sk-toggleable__label-arrow:before {content: \"▸\";float: left;margin-right: 0.25em;color: #696969;}#sk-container-id-6 label.sk-toggleable__label-arrow:hover:before {color: black;}#sk-container-id-6 div.sk-estimator:hover label.sk-toggleable__label-arrow:before {color: black;}#sk-container-id-6 div.sk-toggleable__content {max-height: 0;max-width: 0;overflow: hidden;text-align: left;background-color: #f0f8ff;}#sk-container-id-6 div.sk-toggleable__content pre {margin: 0.2em;color: black;border-radius: 0.25em;background-color: #f0f8ff;}#sk-container-id-6 input.sk-toggleable__control:checked~div.sk-toggleable__content {max-height: 200px;max-width: 100%;overflow: auto;}#sk-container-id-6 input.sk-toggleable__control:checked~label.sk-toggleable__label-arrow:before {content: \"▾\";}#sk-container-id-6 div.sk-estimator input.sk-toggleable__control:checked~label.sk-toggleable__label {background-color: #d4ebff;}#sk-container-id-6 div.sk-label input.sk-toggleable__control:checked~label.sk-toggleable__label {background-color: #d4ebff;}#sk-container-id-6 input.sk-hidden--visually {border: 0;clip: rect(1px 1px 1px 1px);clip: rect(1px, 1px, 1px, 1px);height: 1px;margin: -1px;overflow: hidden;padding: 0;position: absolute;width: 1px;}#sk-container-id-6 div.sk-estimator {font-family: monospace;background-color: #f0f8ff;border: 1px dotted black;border-radius: 0.25em;box-sizing: border-box;margin-bottom: 0.5em;}#sk-container-id-6 div.sk-estimator:hover {background-color: #d4ebff;}#sk-container-id-6 div.sk-parallel-item::after {content: \"\";width: 100%;border-bottom: 1px solid gray;flex-grow: 1;}#sk-container-id-6 div.sk-label:hover label.sk-toggleable__label {background-color: #d4ebff;}#sk-container-id-6 div.sk-serial::before {content: \"\";position: absolute;border-left: 1px solid gray;box-sizing: border-box;top: 0;bottom: 0;left: 50%;z-index: 0;}#sk-container-id-6 div.sk-serial {display: flex;flex-direction: column;align-items: center;background-color: white;padding-right: 0.2em;padding-left: 0.2em;position: relative;}#sk-container-id-6 div.sk-item {position: relative;z-index: 1;}#sk-container-id-6 div.sk-parallel {display: flex;align-items: stretch;justify-content: center;background-color: white;position: relative;}#sk-container-id-6 div.sk-item::before, #sk-container-id-6 div.sk-parallel-item::before {content: \"\";position: absolute;border-left: 1px solid gray;box-sizing: border-box;top: 0;bottom: 0;left: 50%;z-index: -1;}#sk-container-id-6 div.sk-parallel-item {display: flex;flex-direction: column;z-index: 1;position: relative;background-color: white;}#sk-container-id-6 div.sk-parallel-item:first-child::after {align-self: flex-end;width: 50%;}#sk-container-id-6 div.sk-parallel-item:last-child::after {align-self: flex-start;width: 50%;}#sk-container-id-6 div.sk-parallel-item:only-child::after {width: 0;}#sk-container-id-6 div.sk-dashed-wrapped {border: 1px dashed gray;margin: 0 0.4em 0.5em 0.4em;box-sizing: border-box;padding-bottom: 0.4em;background-color: white;}#sk-container-id-6 div.sk-label label {font-family: monospace;font-weight: bold;display: inline-block;line-height: 1.2em;}#sk-container-id-6 div.sk-label-container {text-align: center;}#sk-container-id-6 div.sk-container {/* jupyter's `normalize.less` sets `[hidden] { display: none; }` but bootstrap.min.css set `[hidden] { display: none !important; }` so we also need the `!important` here to be able to override the default hidden behavior on the sphinx rendered scikit-learn.org. See: https://github.com/scikit-learn/scikit-learn/issues/21755 */display: inline-block !important;position: relative;}#sk-container-id-6 div.sk-text-repr-fallback {display: none;}</style><div id=\"sk-container-id-6\" class=\"sk-top-container\"><div class=\"sk-text-repr-fallback\"><pre>XGBRegressor(base_score=None, booster=None, callbacks=None,\n",
       "             colsample_bylevel=None, colsample_bynode=None,\n",
       "             colsample_bytree=None, device=None, early_stopping_rounds=None,\n",
       "             enable_categorical=False, eval_metric=None, feature_types=None,\n",
       "             gamma=None, grow_policy=None, importance_type=None,\n",
       "             interaction_constraints=None, learning_rate=None, max_bin=None,\n",
       "             max_cat_threshold=None, max_cat_to_onehot=None,\n",
       "             max_delta_step=None, max_depth=None, max_leaves=None,\n",
       "             min_child_weight=None, missing=nan, monotone_constraints=None,\n",
       "             multi_strategy=None, n_estimators=None, n_jobs=None,\n",
       "             num_parallel_tree=None, random_state=None, ...)</pre><b>In a Jupyter environment, please rerun this cell to show the HTML representation or trust the notebook. <br />On GitHub, the HTML representation is unable to render, please try loading this page with nbviewer.org.</b></div><div class=\"sk-container\" hidden><div class=\"sk-item\"><div class=\"sk-estimator sk-toggleable\"><input class=\"sk-toggleable__control sk-hidden--visually\" id=\"sk-estimator-id-6\" type=\"checkbox\" checked><label for=\"sk-estimator-id-6\" class=\"sk-toggleable__label sk-toggleable__label-arrow\">XGBRegressor</label><div class=\"sk-toggleable__content\"><pre>XGBRegressor(base_score=None, booster=None, callbacks=None,\n",
       "             colsample_bylevel=None, colsample_bynode=None,\n",
       "             colsample_bytree=None, device=None, early_stopping_rounds=None,\n",
       "             enable_categorical=False, eval_metric=None, feature_types=None,\n",
       "             gamma=None, grow_policy=None, importance_type=None,\n",
       "             interaction_constraints=None, learning_rate=None, max_bin=None,\n",
       "             max_cat_threshold=None, max_cat_to_onehot=None,\n",
       "             max_delta_step=None, max_depth=None, max_leaves=None,\n",
       "             min_child_weight=None, missing=nan, monotone_constraints=None,\n",
       "             multi_strategy=None, n_estimators=None, n_jobs=None,\n",
       "             num_parallel_tree=None, random_state=None, ...)</pre></div></div></div></div></div>"
      ],
      "text/plain": [
       "XGBRegressor(base_score=None, booster=None, callbacks=None,\n",
       "             colsample_bylevel=None, colsample_bynode=None,\n",
       "             colsample_bytree=None, device=None, early_stopping_rounds=None,\n",
       "             enable_categorical=False, eval_metric=None, feature_types=None,\n",
       "             gamma=None, grow_policy=None, importance_type=None,\n",
       "             interaction_constraints=None, learning_rate=None, max_bin=None,\n",
       "             max_cat_threshold=None, max_cat_to_onehot=None,\n",
       "             max_delta_step=None, max_depth=None, max_leaves=None,\n",
       "             min_child_weight=None, missing=nan, monotone_constraints=None,\n",
       "             multi_strategy=None, n_estimators=None, n_jobs=None,\n",
       "             num_parallel_tree=None, random_state=None, ...)"
      ]
     },
     "execution_count": 64,
     "metadata": {},
     "output_type": "execute_result"
    }
   ],
   "source": [
    "from xgboost import XGBRegressor\n",
    "classifier = XGBRegressor()\n",
    "classifier.fit(X_train,y_train)"
   ]
  },
  {
   "cell_type": "code",
   "execution_count": 65,
   "id": "6e8e8504",
   "metadata": {},
   "outputs": [],
   "source": [
    "y_pred = classifier.predict(X_test)"
   ]
  },
  {
   "cell_type": "code",
   "execution_count": 66,
   "id": "190c6053",
   "metadata": {},
   "outputs": [
    {
     "name": "stdout",
     "output_type": "stream",
     "text": [
      "Mean Absolute Error: 15.876192613526038\n",
      "Mean Squared Error: 387.48306031752355\n",
      "Root Mean Squared Error: 19.684589411961927\n"
     ]
    }
   ],
   "source": [
    "from sklearn.metrics import mean_absolute_error, mean_squared_error\n",
    "\n",
    "# Assuming y_test contains the true target values and y_pred contains the predicted target values\n",
    "mae = mean_absolute_error(y_test, y_pred)\n",
    "mse = mean_squared_error(y_test, y_pred)\n",
    "rmse = np.sqrt(mse)\n",
    "\n",
    "print(\"Mean Absolute Error:\", mae)\n",
    "print(\"Mean Squared Error:\", mse)\n",
    "print(\"Root Mean Squared Error:\", rmse)\n"
   ]
  },
  {
   "cell_type": "code",
   "execution_count": 68,
   "id": "ed3f95fd",
   "metadata": {},
   "outputs": [
    {
     "name": "stdout",
     "output_type": "stream",
     "text": [
      "R-squared: -0.015712590622823264\n"
     ]
    }
   ],
   "source": [
    "from sklearn.metrics import r2_score\n",
    "\n",
    "# Assuming y_true contains the true values and y_pred contains the predicted values\n",
    "r2 = r2_score(y_test, y_pred)\n",
    "print(\"R-squared:\", r2)"
   ]
  },
  {
   "cell_type": "code",
   "execution_count": 69,
   "id": "a3b80a52",
   "metadata": {},
   "outputs": [
    {
     "data": {
      "text/plain": [
       "array([ 2.14, -2.67, -2.71,  0.35,  1.75,  0.35, -4.95,  3.2 , -1.06,\n",
       "        1.75, -4.95,  3.2 ,  2.14, -0.5 ,  0.35, -4.95, -2.3 , -1.88,\n",
       "       -1.24, -2.67, -4.95, -1.95,  1.75,  0.29, -2.82, -1.95, -2.3 ,\n",
       "        6.17, -2.67, -2.82,  6.17, -0.5 , -1.88,  0.35, -2.82,  1.75,\n",
       "       -1.31,  0.35, -2.71,  3.2 ,  1.75, -2.3 ,  0.29, -1.24,  0.29,\n",
       "       -2.82, -4.01, -1.31, -1.06, -2.67,  5.52, -1.24, -1.24, -1.06,\n",
       "        3.2 ,  2.14, -4.95, -2.67, -2.82, -1.88, -1.95,  0.29,  5.52,\n",
       "       -1.88, -4.01,  2.14,  2.14, -4.01,  3.2 , -1.88,  3.2 ,  6.17,\n",
       "       -2.67,  0.29, -4.95, -1.06, -2.82,  2.14, -1.88,  2.07, -1.24,\n",
       "        0.29,  0.29,  5.52, -1.95, -4.01, -4.95,  0.29,  0.29, -2.67,\n",
       "       -0.5 ,  0.29,  2.07, -2.67, -2.3 ,  0.29, -2.3 , -2.3 , -4.95,\n",
       "       -1.06, -2.3 ,  3.2 ,  2.14, -2.82, -1.06, -1.95,  2.07, -1.24,\n",
       "       -4.01,  0.29,  1.75,  6.17, -1.95, -2.71, -1.88,  3.2 , -0.5 ,\n",
       "       -2.82,  0.29, -1.88, -1.95, -1.95,  1.75, -2.82, -1.88, -1.31,\n",
       "        2.07,  5.52,  0.35, -4.01,  1.75, -4.01, -4.95, -1.95, -4.95,\n",
       "        1.75, -1.95, -4.01, -4.01, -1.24,  2.07,  0.29,  1.75, -1.06,\n",
       "        6.17,  3.2 , -2.67, -1.88, -2.67, -1.95, -2.3 , -1.95,  5.52,\n",
       "       -2.82, -0.5 , -1.31, -4.95,  0.35, -2.3 , -1.95, -1.06, -2.67,\n",
       "       -2.82, -1.95,  3.2 , -4.95,  6.17, -1.31, -4.95,  2.14,  5.52,\n",
       "       -4.01, -1.88, -2.82,  0.35,  2.14, -1.06, -1.95,  1.75,  0.29,\n",
       "       -1.06, -2.67,  3.2 , -1.88, -1.06, -0.5 , -2.82, -4.95, -4.01,\n",
       "        2.07,  3.2 , -2.67, -4.01, -1.88, -2.82,  3.2 , -1.24,  0.29,\n",
       "       -1.95, -2.82], dtype=float32)"
      ]
     },
     "execution_count": 69,
     "metadata": {},
     "output_type": "execute_result"
    }
   ],
   "source": [
    "y_pred"
   ]
  },
  {
   "cell_type": "code",
   "execution_count": 70,
   "id": "a32dc8bf",
   "metadata": {},
   "outputs": [
    {
     "data": {
      "text/plain": [
       "array([ 14.92, -28.65, -20.37,  -6.82,  -9.94,  44.76,  -1.98, -24.02,\n",
       "       -15.4 , -24.6 , -20.21,   0.41, -24.94,  18.52,  -7.4 ,  26.68,\n",
       "       -30.5 ,   2.74, -16.59,  -5.24,   7.26,  17.31,   6.21,  40.23,\n",
       "        -9.02,  -8.29,  16.62,   5.27, -35.17, -50.62,  -8.04,  -6.39,\n",
       "        49.43, -23.64, -33.71,  23.95,  -5.76,  -2.78,  15.42, -12.28,\n",
       "        -7.3 ,  -6.69,   0.62,   2.82, -13.86,  -5.34,  -4.89, -11.23,\n",
       "        10.66,  -5.79,  -6.01,   8.11,   0.77,   2.46, -27.54,  23.73,\n",
       "       -23.76, -27.76,   0.11, -22.17,  16.63,  -9.6 ,   7.54,  -6.49,\n",
       "         4.28,  -4.95,  21.52,  11.66, -15.43, -26.54,  -9.56,  32.16,\n",
       "         5.99,  -7.86,  -9.92,   0.26,  -0.33,  25.86,  34.74, -18.09,\n",
       "        -4.83,  22.78,   7.48, -15.12,  43.15,   1.75,  29.9 ,  12.42,\n",
       "        -0.6 ,   9.81,   2.02,  21.96,  42.68, -49.22, -27.63,   8.55,\n",
       "       -13.54, -18.18, -30.07,  -2.42, -20.82,  -1.98, -19.4 , -18.02,\n",
       "         6.06, -24.27,   4.1 ,   0.07,   8.4 , -10.57,  -2.16, -17.25,\n",
       "        -9.29,  25.44, -10.94,  -9.87,   5.55,   7.3 ,  -3.35,  13.94,\n",
       "       -36.92, -24.44,  21.02, -12.39,  -5.41, -14.81,  -1.18,   2.35,\n",
       "         8.17, -12.8 , -28.3 ,   6.54,  -2.35,   2.22, -48.74,  -9.53,\n",
       "        16.7 ,   3.21,  19.92,   5.61,  11.2 , -18.51,  36.19, -29.1 ,\n",
       "        15.33,  11.23,  34.65,  19.46,  45.65, -28.83, -31.65,  -5.53,\n",
       "       -12.91,  26.7 , -31.16, -11.14, -20.01,  14.92, -13.07,   0.45,\n",
       "       -17.88, -15.34,  28.12,   9.74, -42.66,  17.22, -25.08,  -7.75,\n",
       "       -14.52,  14.85,  -3.04,  -7.01,  10.02, -12.95, -11.63, -14.93,\n",
       "        33.2 , -36.52, -13.99,  -4.79, -19.24,  16.49,  11.16,   9.71,\n",
       "        -7.3 ,  12.46, -47.81, -25.86, -11.15, -17.06,   6.68, -24.94,\n",
       "       -32.88,   4.42,  -1.15, -17.81, -28.86, -12.71,  20.29,  10.86])"
      ]
     },
     "execution_count": 70,
     "metadata": {},
     "output_type": "execute_result"
    }
   ],
   "source": [
    "y_test"
   ]
  },
  {
   "cell_type": "code",
   "execution_count": 71,
   "id": "37d689f9",
   "metadata": {},
   "outputs": [
    {
     "name": "stdout",
     "output_type": "stream",
     "text": [
      "Epoch 1/50\n",
      "20/20 [==============================] - 1s 14ms/step - loss: 392.0573 - val_loss: 456.0342\n",
      "Epoch 2/50\n",
      "20/20 [==============================] - 0s 4ms/step - loss: 391.1533 - val_loss: 456.6225\n",
      "Epoch 3/50\n",
      "20/20 [==============================] - 0s 4ms/step - loss: 390.5045 - val_loss: 457.0961\n",
      "Epoch 4/50\n",
      "20/20 [==============================] - 0s 3ms/step - loss: 389.9741 - val_loss: 457.8697\n",
      "Epoch 5/50\n",
      "20/20 [==============================] - 0s 3ms/step - loss: 389.4586 - val_loss: 458.6005\n",
      "Epoch 6/50\n",
      "20/20 [==============================] - 0s 3ms/step - loss: 388.9105 - val_loss: 459.5072\n",
      "Epoch 7/50\n",
      "20/20 [==============================] - 0s 4ms/step - loss: 388.5164 - val_loss: 460.3588\n",
      "Epoch 8/50\n",
      "20/20 [==============================] - 0s 3ms/step - loss: 387.9209 - val_loss: 460.8969\n",
      "Epoch 9/50\n",
      "20/20 [==============================] - 0s 3ms/step - loss: 387.3060 - val_loss: 461.8819\n",
      "Epoch 10/50\n",
      "20/20 [==============================] - 0s 4ms/step - loss: 386.7915 - val_loss: 463.1257\n",
      "Epoch 11/50\n",
      "20/20 [==============================] - 0s 3ms/step - loss: 386.0967 - val_loss: 464.3582\n",
      "Epoch 12/50\n",
      "20/20 [==============================] - 0s 3ms/step - loss: 385.5357 - val_loss: 465.8507\n",
      "Epoch 13/50\n",
      "20/20 [==============================] - 0s 3ms/step - loss: 385.0807 - val_loss: 465.9334\n",
      "Epoch 14/50\n",
      "20/20 [==============================] - 0s 4ms/step - loss: 384.2704 - val_loss: 467.4767\n",
      "Epoch 15/50\n",
      "20/20 [==============================] - 0s 4ms/step - loss: 383.5134 - val_loss: 469.7907\n",
      "Epoch 16/50\n",
      "20/20 [==============================] - 0s 3ms/step - loss: 383.2423 - val_loss: 470.4961\n",
      "Epoch 17/50\n",
      "20/20 [==============================] - 0s 4ms/step - loss: 382.6646 - val_loss: 472.3295\n",
      "Epoch 18/50\n",
      "20/20 [==============================] - 0s 4ms/step - loss: 382.0523 - val_loss: 472.1082\n",
      "Epoch 19/50\n",
      "20/20 [==============================] - 0s 4ms/step - loss: 381.6661 - val_loss: 474.1175\n",
      "Epoch 20/50\n",
      "20/20 [==============================] - 0s 4ms/step - loss: 381.2690 - val_loss: 475.1923\n",
      "Epoch 21/50\n",
      "20/20 [==============================] - 0s 3ms/step - loss: 381.3210 - val_loss: 474.5152\n",
      "Epoch 22/50\n",
      "20/20 [==============================] - 0s 3ms/step - loss: 380.7571 - val_loss: 476.6215\n",
      "Epoch 23/50\n",
      "20/20 [==============================] - 0s 3ms/step - loss: 380.6731 - val_loss: 477.9002\n",
      "Epoch 24/50\n",
      "20/20 [==============================] - 0s 3ms/step - loss: 380.5105 - val_loss: 478.0420\n",
      "Epoch 25/50\n",
      "20/20 [==============================] - 0s 3ms/step - loss: 380.7371 - val_loss: 478.5614\n",
      "Epoch 26/50\n",
      "20/20 [==============================] - 0s 4ms/step - loss: 380.3506 - val_loss: 477.2958\n",
      "Epoch 27/50\n",
      "20/20 [==============================] - 0s 4ms/step - loss: 380.2220 - val_loss: 479.1717\n",
      "Epoch 28/50\n",
      "20/20 [==============================] - 0s 4ms/step - loss: 380.1776 - val_loss: 479.9045\n",
      "Epoch 29/50\n",
      "20/20 [==============================] - 0s 4ms/step - loss: 380.2007 - val_loss: 481.0349\n",
      "Epoch 30/50\n",
      "20/20 [==============================] - 0s 4ms/step - loss: 380.3448 - val_loss: 479.3369\n",
      "Epoch 31/50\n",
      "20/20 [==============================] - 0s 4ms/step - loss: 380.1295 - val_loss: 480.9128\n",
      "Epoch 32/50\n",
      "20/20 [==============================] - 0s 4ms/step - loss: 380.2468 - val_loss: 480.4857\n",
      "Epoch 33/50\n",
      "20/20 [==============================] - 0s 4ms/step - loss: 380.3744 - val_loss: 479.6804\n",
      "Epoch 34/50\n",
      "20/20 [==============================] - 0s 4ms/step - loss: 380.0705 - val_loss: 479.8995\n",
      "Epoch 35/50\n",
      "20/20 [==============================] - 0s 4ms/step - loss: 380.7200 - val_loss: 479.7081\n",
      "Epoch 36/50\n",
      "20/20 [==============================] - 0s 4ms/step - loss: 380.5067 - val_loss: 480.6908\n",
      "Epoch 37/50\n",
      "20/20 [==============================] - 0s 4ms/step - loss: 380.1144 - val_loss: 481.0411\n",
      "Epoch 38/50\n",
      "20/20 [==============================] - 0s 4ms/step - loss: 380.1048 - val_loss: 480.6288\n",
      "Epoch 39/50\n",
      "20/20 [==============================] - 0s 4ms/step - loss: 380.1984 - val_loss: 480.8148\n",
      "Epoch 40/50\n",
      "20/20 [==============================] - 0s 4ms/step - loss: 380.1367 - val_loss: 481.1099\n",
      "Epoch 41/50\n",
      "20/20 [==============================] - 0s 4ms/step - loss: 380.0927 - val_loss: 479.9108\n",
      "Epoch 42/50\n",
      "20/20 [==============================] - 0s 4ms/step - loss: 380.0589 - val_loss: 479.7952\n",
      "Epoch 43/50\n",
      "20/20 [==============================] - 0s 4ms/step - loss: 379.9700 - val_loss: 481.6394\n",
      "Epoch 44/50\n",
      "20/20 [==============================] - 0s 4ms/step - loss: 380.0687 - val_loss: 481.5930\n",
      "Epoch 45/50\n",
      "20/20 [==============================] - 0s 4ms/step - loss: 380.0817 - val_loss: 481.2679\n",
      "Epoch 46/50\n",
      "20/20 [==============================] - 0s 4ms/step - loss: 380.3488 - val_loss: 479.1403\n",
      "Epoch 47/50\n",
      "20/20 [==============================] - 0s 4ms/step - loss: 379.9669 - val_loss: 479.7447\n",
      "Epoch 48/50\n",
      "20/20 [==============================] - 0s 4ms/step - loss: 379.9092 - val_loss: 481.3647\n",
      "Epoch 49/50\n",
      "20/20 [==============================] - 0s 4ms/step - loss: 380.0656 - val_loss: 481.1820\n",
      "Epoch 50/50\n",
      "20/20 [==============================] - 0s 4ms/step - loss: 379.9502 - val_loss: 479.9215\n",
      "7/7 [==============================] - 0s 2ms/step - loss: 391.6436\n",
      "Mean Squared Error on test data: 391.6436462402344\n"
     ]
    }
   ],
   "source": [
    "import tensorflow as tf\n",
    "\n",
    "# Assuming X_train and y_train are your training features and target variable\n",
    "# Define the architecture of your neural network\n",
    "model = tf.keras.Sequential([\n",
    "    tf.keras.layers.Dense(64, activation='relu', input_shape=(X_train.shape[1],)),\n",
    "    tf.keras.layers.Dense(64, activation='relu'),\n",
    "    tf.keras.layers.Dense(1)  # Output layer with single neuron for regression\n",
    "])\n",
    "\n",
    "# Compile the model\n",
    "model.compile(optimizer='adam', loss='mean_squared_error')\n",
    "\n",
    "# Train the model\n",
    "model.fit(X_train, y_train, epochs=50, batch_size=32, validation_split=0.2)\n",
    "\n",
    "# Evaluate the model on test data\n",
    "loss = model.evaluate(X_test, y_test)\n",
    "print(\"Mean Squared Error on test data:\", loss)\n"
   ]
  },
  {
   "cell_type": "code",
   "execution_count": 73,
   "id": "84e8a7e7",
   "metadata": {},
   "outputs": [
    {
     "data": {
      "image/png": "[encoded data removed]",
      "text/plain": [
       "<Figure size 800x600 with 1 Axes>"
      ]
     },
     "metadata": {},
     "output_type": "display_data"
    }
   ],
   "source": [
    "import matplotlib.pyplot as plt\n",
    "\n",
    "# Assuming y_test and y_pred contain the actual and predicted target values, respectively\n",
    "\n",
    "plt.figure(figsize=(8, 6))\n",
    "plt.scatter(y_test, y_pred, color='blue', alpha=0.5)\n",
    "plt.plot([min(y_test), max(y_test)], [min(y_test), max(y_test)], color='red', linestyle='--')\n",
    "plt.xlabel('Actual Price Variation Factor')\n",
    "plt.ylabel('Predicted Price Variation Factor')\n",
    "plt.title('Actual vs. Predicted Prices Variation Factor')\n",
    "plt.show()\n"
   ]
  },
  {
   "cell_type": "code",
   "execution_count": 70,
   "id": "74f242ff",
   "metadata": {},
   "outputs": [
    {
     "ename": "AttributeError",
     "evalue": "'numpy.ndarray' object has no attribute 'iloc'",
     "output_type": "error",
     "traceback": [
      "\u001b[1;31m---------------------------------------------------------------------------\u001b[0m",
      "\u001b[1;31mAttributeError\u001b[0m                            Traceback (most recent call last)",
      "Cell \u001b[1;32mIn[70], line 8\u001b[0m\n\u001b[0;32m      4\u001b[0m \u001b[38;5;66;03m# Assuming y_test and y_pred contain the actual and predicted target values, respectively\u001b[39;00m\n\u001b[0;32m      5\u001b[0m \n\u001b[0;32m      6\u001b[0m \u001b[38;5;66;03m# Sort the actual values and corresponding predicted values for plotting the fitting curve\u001b[39;00m\n\u001b[0;32m      7\u001b[0m sorted_indices \u001b[38;5;241m=\u001b[39m np\u001b[38;5;241m.\u001b[39margsort(y_test)\n\u001b[1;32m----> 8\u001b[0m sorted_y_test \u001b[38;5;241m=\u001b[39m \u001b[43my_test\u001b[49m\u001b[38;5;241;43m.\u001b[39;49m\u001b[43miloc\u001b[49m[sorted_indices]\n\u001b[0;32m      9\u001b[0m sorted_y_pred \u001b[38;5;241m=\u001b[39m y_pred[sorted_indices]\n\u001b[0;32m     11\u001b[0m plt\u001b[38;5;241m.\u001b[39mfigure(figsize\u001b[38;5;241m=\u001b[39m(\u001b[38;5;241m8\u001b[39m, \u001b[38;5;241m6\u001b[39m))\n",
      "\u001b[1;31mAttributeError\u001b[0m: 'numpy.ndarray' object has no attribute 'iloc'"
     ]
    }
   ],
   "source": [
    "import matplotlib.pyplot as plt\n",
    "import numpy as np\n",
    "\n",
    "# Assuming y_test and y_pred contain the actual and predicted target values, respectively\n",
    "\n",
    "# Sort the actual values and corresponding predicted values for plotting the fitting curve\n",
    "sorted_indices = np.argsort(y_test)\n",
    "sorted_y_test = y_test.iloc[sorted_indices]\n",
    "sorted_y_pred = y_pred[sorted_indices]\n",
    "\n",
    "plt.figure(figsize=(8, 6))\n",
    "plt.plot(sorted_y_test, sorted_y_pred, color='blue', alpha=0.5)\n",
    "plt.plot([min(y_test), max(y_test)], [min(y_test), max(y_test)], color='red', linestyle='--')\n",
    "plt.xlabel('Actual Price')\n",
    "plt.ylabel('Predicted Price')\n",
    "plt.title('Actual vs. Predicted Prices with Fitting Curve')\n",
    "plt.show()\n"
   ]
  },
  {
   "cell_type": "code",
   "execution_count": 1,
   "id": "25578914",
   "metadata": {},
   "outputs": [
    {
     "name": "stdout",
     "output_type": "stream",
     "text": [
      "Root Mean Squared Error (RMSE): 133.60800057364304\n"
     ]
    }
   ],
   "source": [
    "import pandas as pd\n",
    "from sklearn.model_selection import train_test_split\n",
    "from sklearn.preprocessing import StandardScaler, OneHotEncoder\n",
    "from sklearn.compose import ColumnTransformer\n",
    "from sklearn.pipeline import Pipeline\n",
    "from sklearn.ensemble import RandomForestRegressor\n",
    "from sklearn.metrics import mean_squared_error\n",
    "\n",
    "# Load the dataset\n",
    "data = pd.read_csv(\"newData.csv\")  # Replace \"your_dataset.csv\" with the path to your dataset\n",
    "\n",
    "# Separate features and target variable\n",
    "X = data[['Weather', 'City', 'Subservice', 'Service']]\n",
    "y = data['Price']\n",
    "\n",
    "# Split the data into training and testing sets\n",
    "X_train, X_test, y_train, y_test = train_test_split(X, y, test_size=0.2, random_state=42)\n",
    "\n",
    "# Define preprocessing steps for categorical and numerical features\n",
    "categorical_features = ['Weather', 'City', 'Subservice', 'Service']\n",
    "categorical_transformer = Pipeline(steps=[\n",
    "    ('onehot', OneHotEncoder(handle_unknown='ignore'))\n",
    "])\n",
    "\n",
    "# Preprocessing for numerical features\n",
    "numerical_features = []\n",
    "numerical_transformer = StandardScaler()\n",
    "\n",
    "# Combine preprocessing steps\n",
    "preprocessor = ColumnTransformer(\n",
    "    transformers=[\n",
    "        ('num', numerical_transformer, numerical_features),\n",
    "        ('cat', categorical_transformer, categorical_features)\n",
    "    ])\n",
    "\n",
    "# Define the model\n",
    "model = RandomForestRegressor(n_estimators=100, random_state=42)\n",
    "\n",
    "# Create a pipeline that preprocesses the data and trains the model\n",
    "pipeline = Pipeline(steps=[('preprocessor', preprocessor),\n",
    "                           ('model', model)])\n",
    "\n",
    "# Fit the pipeline to training data\n",
    "pipeline.fit(X_train, y_train)\n",
    "\n",
    "# Make predictions\n",
    "y_pred = pipeline.predict(X_test)\n",
    "\n",
    "# Evaluate the model\n",
    "rmse = mean_squared_error(y_test, y_pred, squared=False)\n",
    "print(\"Root Mean Squared Error (RMSE):\", rmse)\n"
   ]
  },
  {
   "cell_type": "code",
   "execution_count": null,
   "id": "6a3d3940",
   "metadata": {},
   "outputs": [],
   "source": []
  }
 ],
 "metadata": {
  "kernelspec": {
   "display_name": "Python 3 (ipykernel)",
   "language": "python",
   "name": "python3"
  },
  "language_info": {
   "codemirror_mode": {
    "name": "ipython",
    "version": 3
   },
   "file_extension": ".py",
   "mimetype": "text/x-python",
   "name": "python",
   "nbconvert_exporter": "python",
   "pygments_lexer": "ipython3",
   "version": "3.10.9"
  }
 },
 "nbformat": 4,
 "nbformat_minor": 5
}
